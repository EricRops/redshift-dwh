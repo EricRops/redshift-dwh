{
 "cells": [
  {
   "cell_type": "markdown",
   "metadata": {},
   "source": [
    "# Analytic \"dashboard\" notebook to do some basic analysis on the song play data"
   ]
  },
  {
   "cell_type": "code",
   "execution_count": null,
   "metadata": {},
   "outputs": [],
   "source": [
    "import os\n",
    "os.chdir('..')\n",
    "import psycopg2\n",
    "from psycopg2 import sql\n",
    "import pandas as pd\n",
    "from sql_queries import *\n",
    "import matplotlib.pyplot as plt\n",
    "import seaborn as sns\n",
    "import configparser"
   ]
  },
  {
   "cell_type": "code",
   "execution_count": null,
   "metadata": {},
   "outputs": [],
   "source": [
    "config = configparser.ConfigParser()\n",
    "config.read('dwh.cfg')\n",
    "\n",
    "conn = psycopg2.connect(\"host={} dbname={} user={} password={} port={}\".format(*config['CLUSTER'].values()))\n",
    "cur = conn.cursor()\n",
    "print(conn)"
   ]
  },
  {
   "cell_type": "markdown",
   "metadata": {},
   "source": [
    "### Explore the solution dataset (the songplays table) where the artist and song columns are complete"
   ]
  },
  {
   "cell_type": "code",
   "execution_count": null,
   "metadata": {},
   "outputs": [],
   "source": [
    "query =(\"SELECT * FROM songplays \\\n",
    "        WHERE song_id IS NOT NULL \\\n",
    "        OR artist_id IS NOT NULL \\\n",
    "        ORDER BY start_time;\")\n",
    "cur.execute(query)\n",
    "colnames = [desc[0] for desc in cur.description]\n",
    "results = pd.DataFrame(cur.fetchall(), columns = colnames)\n",
    "results"
   ]
  },
  {
   "cell_type": "markdown",
   "metadata": {},
   "source": [
    "There are **333 rows** in the songplays table with complete information (ie. 333 events where a song from the events data matches a song from the songs data). This should be sufficient for some basic analysis."
   ]
  },
  {
   "cell_type": "markdown",
   "metadata": {},
   "source": [
    "### What are the top artists from the sparkify data? What are the top artists for just the paid users?\n",
    "### *Run this section twice to get the proper figure to display*    \n",
    "Note: ignore the font warnings when plotting, they seem irrelevant!"
   ]
  },
  {
   "cell_type": "code",
   "execution_count": null,
   "metadata": {},
   "outputs": [],
   "source": [
    "# Top artists for all users\n",
    "query = (\"\"\"\n",
    "    SELECT a.name AS artist_name, COUNT(*) AS num_plays \n",
    "    FROM songplays s \n",
    "    JOIN artists a\n",
    "    ON s.artist_id = a.artist_id\n",
    "    GROUP BY a.name \n",
    "    ORDER BY num_plays DESC \n",
    "    LIMIT 10;\n",
    "\"\"\")\n",
    "cur.execute(query)\n",
    "colnames = [desc[0] for desc in cur.description]\n",
    "results1 = pd.DataFrame(cur.fetchall(), columns = colnames)\n",
    "#print(results1)\n",
    "\n",
    "# Top artists just for paid users\n",
    "query = (\"\"\"\n",
    "    SELECT a.name AS artist_name, COUNT(*) AS num_plays \n",
    "    FROM songplays s\n",
    "    JOIN artists a\n",
    "    ON s.artist_id = a.artist_id\n",
    "    AND s.level = 'paid'\n",
    "    GROUP BY a.name \n",
    "    ORDER BY num_plays DESC \n",
    "    LIMIT 10;\n",
    "\"\"\")\n",
    "cur.execute(query)\n",
    "colnames = [desc[0] for desc in cur.description]\n",
    "results2 = pd.DataFrame(cur.fetchall(), columns = colnames)\n",
    "#print(results2)\n",
    "\n",
    "# Plot results as a Seaborn barplot (2 subplots)\n",
    "fig, axes = plt.subplots(2, 1)\n",
    "fig.subplots_adjust(hspace=1)\n",
    "sns.set(style=\"whitegrid\")\n",
    "sns.set(rc={'figure.figsize':(15,18)})\n",
    "sns.set(font_scale = 2)\n",
    "plt.rcParams[\"xtick.labelsize\"] = 16\n",
    "chart1 = sns.barplot(x=\"artist_name\", y=\"num_plays\", data=results1, ax=axes[0]);\n",
    "chart1.set_xticklabels(chart1.get_xticklabels(), rotation=40, horizontalalignment='right');\n",
    "chart1.set_title(\"Top 10 artists from Sparkify dataset: All users\", weight = \"bold\");\n",
    "chart1.set(xlabel=None)\n",
    "chart2 = sns.barplot(x=\"artist_name\", y=\"num_plays\", data=results2, ax=axes[1]);\n",
    "chart2.set_title(\"Top 10 artists from Sparkify dataset: PAID users only\", weight = \"bold\");\n",
    "chart2.set_xticklabels(chart2.get_xticklabels(), rotation=40, horizontalalignment='right');\n",
    "chart2.set(xlabel=None)"
   ]
  },
  {
   "cell_type": "markdown",
   "metadata": {},
   "source": [
    "### Findings:\n",
    "- No major differences in the music interests between all users and paid users (same artists, just in slightly different orders)  \n",
    "- Dwight Yaokam is the most popular artist by far. This suggests many users enjoy country music."
   ]
  },
  {
   "cell_type": "markdown",
   "metadata": {},
   "source": [
    "### Suggestions for Udacity to improve project:\n",
    "- Include some other fields such as song genre, and beats-per-minute, so we can do more in depth analysis of what users preferences are."
   ]
  },
  {
   "cell_type": "code",
   "execution_count": null,
   "metadata": {},
   "outputs": [],
   "source": [
    "cur.close()\n",
    "conn.close()"
   ]
  }
 ],
 "metadata": {
  "kernelspec": {
   "display_name": "Python 3",
   "language": "python",
   "name": "python3"
  },
  "language_info": {
   "codemirror_mode": {
    "name": "ipython",
    "version": 3
   },
   "file_extension": ".py",
   "mimetype": "text/x-python",
   "name": "python",
   "nbconvert_exporter": "python",
   "pygments_lexer": "ipython3",
   "version": "3.7.6"
  }
 },
 "nbformat": 4,
 "nbformat_minor": 4
}
